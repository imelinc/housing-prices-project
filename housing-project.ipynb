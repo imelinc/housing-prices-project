{
 "cells": [
  {
   "cell_type": "markdown",
   "id": "3bda2304",
   "metadata": {},
   "source": [
    "# Boston Housing Prices Prediction Notebook\n",
    "\n",
    "## Introduction\n",
    "This Jupyter Notebook demonstrates a machine learning workflow to predict house prices in Boston using the **Boston Housing Dataset**.\n",
    "\n",
    "## Objectives\n",
    "- Explore and visualize the dataset to identify key patterns and correlations.\n",
    "- Preprocess the data to handle missing values and scale features.\n",
    "- Train and evaluate regression models, including Linear Regression and Random Forest.\n",
    "- Interpret results to understand feature importance and model performance.\n",
    "\n",
    "## Dataset\n",
    "The [Boston Housing Dataset](https://www.kaggle.com/datasets/schirmerchad/bostonhoustingmlnd) is used, with features like:\n",
    "- **PTRATIO**: Ratio of students to teachers in primary and secondary schools in the neighbourhood\n",
    "- **RM**: Average number of rooms per dwelling\n",
    "- **LSTAT**: Percentage of lower-status population\n",
    "- **MEDV**: Median house price (in $1000s, target variable)\n",
    "\n",
    "## Workflow\n",
    "1. **Data Loading and Exploration**:\n",
    "   - Load the dataset using pandas.\n",
    "   - Visualize distributions and correlations (e.g., heatmap, scatter plots).\n",
    "2. **Preprocessing**:\n",
    "   - Check for missing values and outliers.\n",
    "   - Normalize numerical features using StandardScaler.\n",
    "   - Split data into training (80%) and testing (20%) sets.\n",
    "3. **Modeling**:\n",
    "   - Train a Linear Regression model as a baseline.\n",
    "   - Train a Random Forest model for improved performance.\n",
    "   - Hyperparameter tuning using GridSearchCV (optional).\n",
    "4. **Evaluation**:\n",
    "   - Compute Mean Squared Error (MSE) and R² score.\n",
    "   - Visualize predicted vs. actual prices.\n",
    "   - Analyze feature importance for Random Forest.\n",
    "5. **Conclusion**:\n",
    "   - Summarize model performance and key findings.\n",
    "   - Discuss limitations and potential improvements.\n",
    "\n",
    "## Expected Outcomes\n",
    "- Understand the relationship between housing features and prices.\n",
    "- Compare the performance of simple (Linear Regression) vs. complex (Random Forest) models.\n",
    "- Gain hands-on experience with data preprocessing, model training, and evaluation.\n"
   ]
  },
  {
   "cell_type": "code",
   "execution_count": 1,
   "id": "bdc968c0",
   "metadata": {},
   "outputs": [],
   "source": [
    "# Importing \n",
    "import pandas as pd"
   ]
  },
  {
   "cell_type": "code",
   "execution_count": 2,
   "id": "c49cfb43",
   "metadata": {},
   "outputs": [
    {
     "data": {
      "text/html": [
       "<div>\n",
       "<style scoped>\n",
       "    .dataframe tbody tr th:only-of-type {\n",
       "        vertical-align: middle;\n",
       "    }\n",
       "\n",
       "    .dataframe tbody tr th {\n",
       "        vertical-align: top;\n",
       "    }\n",
       "\n",
       "    .dataframe thead th {\n",
       "        text-align: right;\n",
       "    }\n",
       "</style>\n",
       "<table border=\"1\" class=\"dataframe\">\n",
       "  <thead>\n",
       "    <tr style=\"text-align: right;\">\n",
       "      <th></th>\n",
       "      <th>RM</th>\n",
       "      <th>LSTAT</th>\n",
       "      <th>PTRATIO</th>\n",
       "      <th>MEDV</th>\n",
       "    </tr>\n",
       "  </thead>\n",
       "  <tbody>\n",
       "    <tr>\n",
       "      <th>0</th>\n",
       "      <td>6.575</td>\n",
       "      <td>4.98</td>\n",
       "      <td>15.3</td>\n",
       "      <td>504000.0</td>\n",
       "    </tr>\n",
       "    <tr>\n",
       "      <th>1</th>\n",
       "      <td>6.421</td>\n",
       "      <td>9.14</td>\n",
       "      <td>17.8</td>\n",
       "      <td>453600.0</td>\n",
       "    </tr>\n",
       "    <tr>\n",
       "      <th>2</th>\n",
       "      <td>7.185</td>\n",
       "      <td>4.03</td>\n",
       "      <td>17.8</td>\n",
       "      <td>728700.0</td>\n",
       "    </tr>\n",
       "    <tr>\n",
       "      <th>3</th>\n",
       "      <td>6.998</td>\n",
       "      <td>2.94</td>\n",
       "      <td>18.7</td>\n",
       "      <td>701400.0</td>\n",
       "    </tr>\n",
       "    <tr>\n",
       "      <th>4</th>\n",
       "      <td>7.147</td>\n",
       "      <td>5.33</td>\n",
       "      <td>18.7</td>\n",
       "      <td>760200.0</td>\n",
       "    </tr>\n",
       "    <tr>\n",
       "      <th>...</th>\n",
       "      <td>...</td>\n",
       "      <td>...</td>\n",
       "      <td>...</td>\n",
       "      <td>...</td>\n",
       "    </tr>\n",
       "    <tr>\n",
       "      <th>484</th>\n",
       "      <td>6.593</td>\n",
       "      <td>9.67</td>\n",
       "      <td>21.0</td>\n",
       "      <td>470400.0</td>\n",
       "    </tr>\n",
       "    <tr>\n",
       "      <th>485</th>\n",
       "      <td>6.120</td>\n",
       "      <td>9.08</td>\n",
       "      <td>21.0</td>\n",
       "      <td>432600.0</td>\n",
       "    </tr>\n",
       "    <tr>\n",
       "      <th>486</th>\n",
       "      <td>6.976</td>\n",
       "      <td>5.64</td>\n",
       "      <td>21.0</td>\n",
       "      <td>501900.0</td>\n",
       "    </tr>\n",
       "    <tr>\n",
       "      <th>487</th>\n",
       "      <td>6.794</td>\n",
       "      <td>6.48</td>\n",
       "      <td>21.0</td>\n",
       "      <td>462000.0</td>\n",
       "    </tr>\n",
       "    <tr>\n",
       "      <th>488</th>\n",
       "      <td>6.030</td>\n",
       "      <td>7.88</td>\n",
       "      <td>21.0</td>\n",
       "      <td>249900.0</td>\n",
       "    </tr>\n",
       "  </tbody>\n",
       "</table>\n",
       "<p>489 rows × 4 columns</p>\n",
       "</div>"
      ],
      "text/plain": [
       "        RM  LSTAT  PTRATIO      MEDV\n",
       "0    6.575   4.98     15.3  504000.0\n",
       "1    6.421   9.14     17.8  453600.0\n",
       "2    7.185   4.03     17.8  728700.0\n",
       "3    6.998   2.94     18.7  701400.0\n",
       "4    7.147   5.33     18.7  760200.0\n",
       "..     ...    ...      ...       ...\n",
       "484  6.593   9.67     21.0  470400.0\n",
       "485  6.120   9.08     21.0  432600.0\n",
       "486  6.976   5.64     21.0  501900.0\n",
       "487  6.794   6.48     21.0  462000.0\n",
       "488  6.030   7.88     21.0  249900.0\n",
       "\n",
       "[489 rows x 4 columns]"
      ]
     },
     "execution_count": 2,
     "metadata": {},
     "output_type": "execute_result"
    }
   ],
   "source": [
    "# Reading the dataset and taking a look at it\n",
    "df = pd.read_csv(\"../data/housing.csv\")\n",
    "df"
   ]
  },
  {
   "cell_type": "code",
   "execution_count": 3,
   "id": "67c6270b",
   "metadata": {},
   "outputs": [
    {
     "data": {
      "text/plain": [
       "RM         0\n",
       "LSTAT      0\n",
       "PTRATIO    0\n",
       "MEDV       0\n",
       "dtype: int64"
      ]
     },
     "execution_count": 3,
     "metadata": {},
     "output_type": "execute_result"
    }
   ],
   "source": [
    "# let's check for missing values...\n",
    "df.isna().sum()"
   ]
  },
  {
   "cell_type": "code",
   "execution_count": 4,
   "id": "e0ee6732",
   "metadata": {},
   "outputs": [
    {
     "data": {
      "text/plain": [
       "353    3.561\n",
       "355    3.863\n",
       "389    4.138\n",
       "357    4.138\n",
       "367    4.368\n",
       "       ...  \n",
       "225    8.247\n",
       "245    8.259\n",
       "217    8.266\n",
       "224    8.337\n",
       "253    8.398\n",
       "Name: RM, Length: 489, dtype: float64"
      ]
     },
     "execution_count": 4,
     "metadata": {},
     "output_type": "execute_result"
    }
   ],
   "source": [
    "df[\"RM\"].sort_values()"
   ]
  },
  {
   "cell_type": "code",
   "execution_count": 5,
   "id": "96fc514e",
   "metadata": {},
   "outputs": [
    {
     "data": {
      "text/plain": [
       "388     105000.0\n",
       "381     105000.0\n",
       "383     117600.0\n",
       "382     132300.0\n",
       "472     147000.0\n",
       "         ...    \n",
       "272     966000.0\n",
       "220     980700.0\n",
       "225    1014300.0\n",
       "197    1018500.0\n",
       "253    1024800.0\n",
       "Name: MEDV, Length: 489, dtype: float64"
      ]
     },
     "execution_count": 5,
     "metadata": {},
     "output_type": "execute_result"
    }
   ],
   "source": [
    "df[\"MEDV\"].sort_values()"
   ]
  },
  {
   "cell_type": "code",
   "execution_count": 6,
   "id": "00916633",
   "metadata": {},
   "outputs": [
    {
     "data": {
      "text/plain": [
       "<matplotlib.collections.PathCollection at 0x1468f6900>"
      ]
     },
     "execution_count": 6,
     "metadata": {},
     "output_type": "execute_result"
    },
    {
     "data": {
      "image/png": "[encoded data removed]",
      "text/plain": [
       "<Figure size 2000x800 with 3 Axes>"
      ]
     },
     "metadata": {},
     "output_type": "display_data"
    }
   ],
   "source": [
    "# as there's no missing values, let's look for correlations and distributions\n",
    "import matplotlib.pyplot as plt\n",
    "import seaborn as sns\n",
    "\n",
    "# setting up the plot\n",
    "fig, (ax1, ax2, ax3) = plt.subplots(nrows=1, ncols=3, figsize= (20,8), facecolor=\"#1f1f1f\")\n",
    "\n",
    "# First let's plot RM vs MEDV (avg number of rooms vs price)\n",
    "ax1.scatter(x=df[\"RM\"], y=df[\"MEDV\"])"
   ]
  },
  {
   "cell_type": "code",
   "execution_count": null,
   "id": "52f70363",
   "metadata": {},
   "outputs": [],
   "source": []
  }
 ],
 "metadata": {
  "kernelspec": {
   "display_name": "Python 3",
   "language": "python",
   "name": "python3"
  },
  "language_info": {
   "codemirror_mode": {
    "name": "ipython",
    "version": 3
   },
   "file_extension": ".py",
   "mimetype": "text/x-python",
   "name": "python",
   "nbconvert_exporter": "python",
   "pygments_lexer": "ipython3",
   "version": "3.13.2"
  }
 },
 "nbformat": 4,
 "nbformat_minor": 5
}
